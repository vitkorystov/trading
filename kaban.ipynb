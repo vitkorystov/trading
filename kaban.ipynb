{
 "cells": [
  {
   "cell_type": "code",
   "execution_count": 12,
   "metadata": {
    "collapsed": true
   },
   "outputs": [],
   "source": [
    "import pandas as pd"
   ]
  },
  {
   "cell_type": "code",
   "execution_count": 13,
   "outputs": [],
   "source": [
    "file = 'GAZP_100101_200714.csv'\n",
    "df = pd.read_csv(file, sep=';')\n"
   ],
   "metadata": {
    "collapsed": false,
    "pycharm": {
     "name": "#%%\n"
    }
   }
  },
  {
   "cell_type": "code",
   "execution_count": 14,
   "outputs": [
    {
     "name": "stdout",
     "output_type": "stream",
     "text": [
      "0 192.55 194.5 196.9 191.0\n",
      "Сделка открыта: i=0, тип: buy, start_deal=192.55, take_profit=202.55, stop_loss=182.55\n",
      "1 194.1 191.8 195.8 190.55\n",
      "2 189.8 189.3 191.86 188.3\n",
      "3 191.19 190.83 191.46 188.88\n",
      "4 190.0 187.86 192.1 187.25\n",
      "5 186.97 190.4 190.5 186.6\n",
      "6 190.14 189.76 190.47 187.36\n",
      "7 189.2 185.98 189.9 185.82\n",
      "8 187.16 182.76 187.19 182.3\n",
      "stop_loss\n"
     ]
    }
   ],
   "source": [
    "\n",
    "is_deal = False\n",
    "start_deal = 0\n",
    "deal_type = ''\n",
    "deal_duration = 0\n",
    "take_profit = 0\n",
    "stop_loss = 0\n",
    "\n",
    "deal_end_type = ''\n",
    "\n",
    "for i, row in df.iterrows():\n",
    "    open = row['<OPEN>']\n",
    "    close = row['<CLOSE>']\n",
    "    high = row['<HIGH>']\n",
    "    low = row['<LOW>']\n",
    "\n",
    "    print(i, open, close, high, low)\n",
    "\n",
    "    if not is_deal:\n",
    "        start_deal = open\n",
    "\n",
    "        # начальная сделки\n",
    "        if i == 0:\n",
    "            deal_type = 'buy'\n",
    "\n",
    "\n",
    "        if deal_type == 'buy':\n",
    "            take_profit = start_deal + 10\n",
    "            stop_loss = start_deal - 10\n",
    "        else:\n",
    "            take_profit = start_deal - 10\n",
    "            stop_loss = start_deal + 10\n",
    "\n",
    "        print(f\"Сделка открыта: i={i}, тип: {deal_type}, start_deal={start_deal}, take_profit={take_profit}, stop_loss={stop_loss}\")\n",
    "        is_deal = True\n",
    "\n",
    "    # ловим окончание сделки\n",
    "    if is_deal:\n",
    "        deal_duration += 1\n",
    "        # закрытие сделки при покупке\n",
    "        if deal_type == 'buy':\n",
    "            if high > take_profit:\n",
    "                deal_end_type = 'profit'\n",
    "                is_deal = False\n",
    "            if low < stop_loss:\n",
    "                deal_end_type = 'loss'\n",
    "                is_deal = False\n",
    "        # закрытие сделки при продажк\n",
    "        if deal_type == 'sell':\n",
    "            if low < take_profit:\n",
    "                deal_end_type = 'profit'\n",
    "                is_deal = False\n",
    "            if high > stop_loss:\n",
    "                deal_end_type = 'loss'\n",
    "                is_deal = False\n",
    "\n",
    "\n",
    "\n",
    "\n",
    "\n",
    "\n",
    "\n",
    "\n",
    "\n",
    "\n",
    "\n",
    "\n",
    "\n",
    "\n",
    "\n",
    "\n"
   ],
   "metadata": {
    "collapsed": false,
    "pycharm": {
     "name": "#%%\n"
    }
   }
  }
 ],
 "metadata": {
  "kernelspec": {
   "display_name": "Python 3",
   "language": "python",
   "name": "python3"
  },
  "language_info": {
   "codemirror_mode": {
    "name": "ipython",
    "version": 2
   },
   "file_extension": ".py",
   "mimetype": "text/x-python",
   "name": "python",
   "nbconvert_exporter": "python",
   "pygments_lexer": "ipython2",
   "version": "2.7.6"
  }
 },
 "nbformat": 4,
 "nbformat_minor": 0
}